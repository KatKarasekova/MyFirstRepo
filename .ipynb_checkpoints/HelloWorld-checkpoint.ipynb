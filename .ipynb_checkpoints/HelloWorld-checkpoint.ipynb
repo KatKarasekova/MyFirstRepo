{
 "cells": [
  {
   "cell_type": "code",
   "execution_count": 1,
   "id": "b6954bd7-b676-4538-a0ef-13c88ab5950a",
   "metadata": {},
   "outputs": [
    {
     "name": "stdout",
     "output_type": "stream",
     "text": [
      "Hello, world!\n"
     ]
    }
   ],
   "source": [
    "print(\"Hello, world!\")"
   ]
  },
  {
   "cell_type": "markdown",
   "id": "9d58a95b-b978-4983-94e4-0bf6831494a4",
   "metadata": {},
   "source": [
    "# My First Markdown Heading"
   ]
  },
  {
   "cell_type": "markdown",
   "id": "ec304c3c-1787-41c4-9212-a90b7e71b8eb",
   "metadata": {},
   "source": [
    "## My Second Markdown Heading"
   ]
  },
  {
   "cell_type": "markdown",
   "id": "a96b8674-0d20-4b21-b502-0d9b0a93cbda",
   "metadata": {},
   "source": [
    "This is some **bold** text.\n"
   ]
  },
  {
   "cell_type": "markdown",
   "id": "e6381195-95d9-4a64-8c0a-ac6c0f976696",
   "metadata": {},
   "source": [
    "1. First item\n",
    "2. Second item\n",
    "3. Third item"
   ]
  },
  {
   "cell_type": "code",
   "execution_count": 2,
   "id": "9b1f7c17-a77a-4c6b-a269-88fc7cc64982",
   "metadata": {},
   "outputs": [],
   "source": [
    "my_var = 5\n"
   ]
  },
  {
   "cell_type": "code",
   "execution_count": 3,
   "id": "aad7b8a5-6c57-4457-a7dc-a6bd8e37720e",
   "metadata": {},
   "outputs": [
    {
     "name": "stdout",
     "output_type": "stream",
     "text": [
      "10\n"
     ]
    }
   ],
   "source": [
    "result = my_var * 2\n",
    "print(result)\n"
   ]
  }
 ],
 "metadata": {
  "kernelspec": {
   "display_name": "Python 3 (ipykernel)",
   "language": "python",
   "name": "python3"
  },
  "language_info": {
   "codemirror_mode": {
    "name": "ipython",
    "version": 3
   },
   "file_extension": ".py",
   "mimetype": "text/x-python",
   "name": "python",
   "nbconvert_exporter": "python",
   "pygments_lexer": "ipython3",
   "version": "3.10.9"
  }
 },
 "nbformat": 4,
 "nbformat_minor": 5
}
